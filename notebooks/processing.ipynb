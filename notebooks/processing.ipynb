{
 "cells": [
  {
   "cell_type": "markdown",
   "metadata": {},
   "source": [
    "# Processing"
   ]
  },
  {
   "cell_type": "markdown",
   "metadata": {},
   "source": [
    "Creates an adata object from the output of the single-cell proteomics R pipeline."
   ]
  },
  {
   "cell_type": "code",
   "execution_count": 1,
   "metadata": {},
   "outputs": [],
   "source": [
    "import pyreadr\n",
    "import numpy as np\n",
    "import pandas as pd\n",
    "import scanpy as sc"
   ]
  },
  {
   "cell_type": "code",
   "execution_count": 2,
   "metadata": {},
   "outputs": [],
   "source": [
    "PATH = \"../Code/_targets/objects/dat_SN_maxLFQ_m\""
   ]
  },
  {
   "cell_type": "code",
   "execution_count": 3,
   "metadata": {},
   "outputs": [],
   "source": [
    "raw = pyreadr.read_r(PATH)"
   ]
  },
  {
   "cell_type": "code",
   "execution_count": 25,
   "metadata": {},
   "outputs": [],
   "source": [
    "table = raw[None]\n",
    "table.columns = table.columns.str.lower()"
   ]
  },
  {
   "cell_type": "markdown",
   "metadata": {},
   "source": [
    "Create intensitry matrix."
   ]
  },
  {
   "cell_type": "code",
   "execution_count": 27,
   "metadata": {},
   "outputs": [
    {
     "name": "stdout",
     "output_type": "stream",
     "text": [
      "Rows: 528, Cols: 1690\n"
     ]
    }
   ],
   "source": [
    "row_name = \"run_chan\"\n",
    "col_name = \"genes\"\n",
    "value_name = \"value\"\n",
    "\n",
    "rows = table[row_name].unique()\n",
    "cols = table[col_name].unique()\n",
    "\n",
    "print(f\"Rows: {len(rows)}, Cols: {len(cols)}\")"
   ]
  },
  {
   "cell_type": "code",
   "execution_count": 28,
   "metadata": {},
   "outputs": [],
   "source": [
    "data = np.full((len(rows), len(cols)), np.nan)\n",
    "\n",
    "df = pd.DataFrame(data, index=rows, columns=cols)\n",
    "\n",
    "for i, row in table.iterrows():\n",
    "    df.at[row[row_name], row[col_name]] = row[value_name]"
   ]
  },
  {
   "cell_type": "code",
   "execution_count": 29,
   "metadata": {},
   "outputs": [
    {
     "data": {
      "text/html": [
       "<div>\n",
       "<style scoped>\n",
       "    .dataframe tbody tr th:only-of-type {\n",
       "        vertical-align: middle;\n",
       "    }\n",
       "\n",
       "    .dataframe tbody tr th {\n",
       "        vertical-align: top;\n",
       "    }\n",
       "\n",
       "    .dataframe thead th {\n",
       "        text-align: right;\n",
       "    }\n",
       "</style>\n",
       "<table border=\"1\" class=\"dataframe\">\n",
       "  <thead>\n",
       "    <tr style=\"text-align: right;\">\n",
       "      <th></th>\n",
       "      <th>SRP14</th>\n",
       "      <th>RPL4</th>\n",
       "      <th>EXOSC10</th>\n",
       "      <th>DOCK2</th>\n",
       "      <th>ARID1A</th>\n",
       "      <th>CHCHD3</th>\n",
       "      <th>MED17</th>\n",
       "      <th>NCL</th>\n",
       "      <th>SND1</th>\n",
       "      <th>INTS1</th>\n",
       "      <th>...</th>\n",
       "      <th>ZNF593</th>\n",
       "      <th>HDAC1</th>\n",
       "      <th>HDAC2</th>\n",
       "      <th>EFCAB5</th>\n",
       "      <th>RPL26L1</th>\n",
       "      <th>YWHAE</th>\n",
       "      <th>YWHAG</th>\n",
       "      <th>BCKDK</th>\n",
       "      <th>TEX44</th>\n",
       "      <th>RBM3</th>\n",
       "    </tr>\n",
       "  </thead>\n",
       "  <tbody>\n",
       "    <tr>\n",
       "      <th>gJD3310_B.A1_1_3580mTRAQ0</th>\n",
       "      <td>166.068188</td>\n",
       "      <td>12036.398779</td>\n",
       "      <td>4942.138537</td>\n",
       "      <td>1708.717340</td>\n",
       "      <td>2814.724901</td>\n",
       "      <td>9127.889435</td>\n",
       "      <td>647.716003</td>\n",
       "      <td>25212.128698</td>\n",
       "      <td>9099.061566</td>\n",
       "      <td>2992.496941</td>\n",
       "      <td>...</td>\n",
       "      <td>NaN</td>\n",
       "      <td>NaN</td>\n",
       "      <td>NaN</td>\n",
       "      <td>30.313638</td>\n",
       "      <td>NaN</td>\n",
       "      <td>NaN</td>\n",
       "      <td>81.941118</td>\n",
       "      <td>127.981932</td>\n",
       "      <td>7558.562064</td>\n",
       "      <td>2445.113416</td>\n",
       "    </tr>\n",
       "    <tr>\n",
       "      <th>gJD3312_B.A3_1_3582mTRAQ0</th>\n",
       "      <td>1234.788516</td>\n",
       "      <td>2122.531250</td>\n",
       "      <td>2006.970123</td>\n",
       "      <td>1293.069695</td>\n",
       "      <td>1043.999361</td>\n",
       "      <td>2311.015959</td>\n",
       "      <td>4206.377325</td>\n",
       "      <td>10939.742511</td>\n",
       "      <td>4075.373146</td>\n",
       "      <td>2312.445797</td>\n",
       "      <td>...</td>\n",
       "      <td>1440.598576</td>\n",
       "      <td>610.744628</td>\n",
       "      <td>NaN</td>\n",
       "      <td>NaN</td>\n",
       "      <td>NaN</td>\n",
       "      <td>NaN</td>\n",
       "      <td>332.701871</td>\n",
       "      <td>NaN</td>\n",
       "      <td>2472.685355</td>\n",
       "      <td>711.695525</td>\n",
       "    </tr>\n",
       "    <tr>\n",
       "      <th>gJD3313_B.A4_1_3583mTRAQ0</th>\n",
       "      <td>1576.352170</td>\n",
       "      <td>5592.304934</td>\n",
       "      <td>3918.499176</td>\n",
       "      <td>979.922802</td>\n",
       "      <td>1714.338065</td>\n",
       "      <td>5565.918438</td>\n",
       "      <td>NaN</td>\n",
       "      <td>18829.514765</td>\n",
       "      <td>5601.525917</td>\n",
       "      <td>3601.262897</td>\n",
       "      <td>...</td>\n",
       "      <td>314.021967</td>\n",
       "      <td>NaN</td>\n",
       "      <td>NaN</td>\n",
       "      <td>206.204369</td>\n",
       "      <td>NaN</td>\n",
       "      <td>NaN</td>\n",
       "      <td>NaN</td>\n",
       "      <td>236.438031</td>\n",
       "      <td>4022.725033</td>\n",
       "      <td>791.510046</td>\n",
       "    </tr>\n",
       "    <tr>\n",
       "      <th>gJD3314_B.A5_1_3584mTRAQ0</th>\n",
       "      <td>1911.434680</td>\n",
       "      <td>3068.140349</td>\n",
       "      <td>2186.421374</td>\n",
       "      <td>2355.815439</td>\n",
       "      <td>589.733761</td>\n",
       "      <td>4496.846875</td>\n",
       "      <td>262.310997</td>\n",
       "      <td>11397.909978</td>\n",
       "      <td>5909.710607</td>\n",
       "      <td>3314.069122</td>\n",
       "      <td>...</td>\n",
       "      <td>NaN</td>\n",
       "      <td>NaN</td>\n",
       "      <td>NaN</td>\n",
       "      <td>NaN</td>\n",
       "      <td>NaN</td>\n",
       "      <td>169.459344</td>\n",
       "      <td>529.131505</td>\n",
       "      <td>NaN</td>\n",
       "      <td>2277.256667</td>\n",
       "      <td>806.961110</td>\n",
       "    </tr>\n",
       "    <tr>\n",
       "      <th>gJD3315_B.A6_1_3585mTRAQ0</th>\n",
       "      <td>1474.594609</td>\n",
       "      <td>6734.457791</td>\n",
       "      <td>2055.501688</td>\n",
       "      <td>1529.575335</td>\n",
       "      <td>857.972329</td>\n",
       "      <td>8012.798247</td>\n",
       "      <td>476.134945</td>\n",
       "      <td>21403.164330</td>\n",
       "      <td>7628.291260</td>\n",
       "      <td>1615.320522</td>\n",
       "      <td>...</td>\n",
       "      <td>370.829358</td>\n",
       "      <td>NaN</td>\n",
       "      <td>NaN</td>\n",
       "      <td>581.946828</td>\n",
       "      <td>NaN</td>\n",
       "      <td>NaN</td>\n",
       "      <td>1364.441086</td>\n",
       "      <td>89.952708</td>\n",
       "      <td>3864.950560</td>\n",
       "      <td>25.735222</td>\n",
       "    </tr>\n",
       "  </tbody>\n",
       "</table>\n",
       "<p>5 rows × 1690 columns</p>\n",
       "</div>"
      ],
      "text/plain": [
       "                                 SRP14          RPL4      EXOSC10  \\\n",
       "gJD3310_B.A1_1_3580mTRAQ0   166.068188  12036.398779  4942.138537   \n",
       "gJD3312_B.A3_1_3582mTRAQ0  1234.788516   2122.531250  2006.970123   \n",
       "gJD3313_B.A4_1_3583mTRAQ0  1576.352170   5592.304934  3918.499176   \n",
       "gJD3314_B.A5_1_3584mTRAQ0  1911.434680   3068.140349  2186.421374   \n",
       "gJD3315_B.A6_1_3585mTRAQ0  1474.594609   6734.457791  2055.501688   \n",
       "\n",
       "                                 DOCK2       ARID1A       CHCHD3        MED17  \\\n",
       "gJD3310_B.A1_1_3580mTRAQ0  1708.717340  2814.724901  9127.889435   647.716003   \n",
       "gJD3312_B.A3_1_3582mTRAQ0  1293.069695  1043.999361  2311.015959  4206.377325   \n",
       "gJD3313_B.A4_1_3583mTRAQ0   979.922802  1714.338065  5565.918438          NaN   \n",
       "gJD3314_B.A5_1_3584mTRAQ0  2355.815439   589.733761  4496.846875   262.310997   \n",
       "gJD3315_B.A6_1_3585mTRAQ0  1529.575335   857.972329  8012.798247   476.134945   \n",
       "\n",
       "                                    NCL         SND1        INTS1  ...  \\\n",
       "gJD3310_B.A1_1_3580mTRAQ0  25212.128698  9099.061566  2992.496941  ...   \n",
       "gJD3312_B.A3_1_3582mTRAQ0  10939.742511  4075.373146  2312.445797  ...   \n",
       "gJD3313_B.A4_1_3583mTRAQ0  18829.514765  5601.525917  3601.262897  ...   \n",
       "gJD3314_B.A5_1_3584mTRAQ0  11397.909978  5909.710607  3314.069122  ...   \n",
       "gJD3315_B.A6_1_3585mTRAQ0  21403.164330  7628.291260  1615.320522  ...   \n",
       "\n",
       "                                ZNF593       HDAC1  HDAC2      EFCAB5  \\\n",
       "gJD3310_B.A1_1_3580mTRAQ0          NaN         NaN    NaN   30.313638   \n",
       "gJD3312_B.A3_1_3582mTRAQ0  1440.598576  610.744628    NaN         NaN   \n",
       "gJD3313_B.A4_1_3583mTRAQ0   314.021967         NaN    NaN  206.204369   \n",
       "gJD3314_B.A5_1_3584mTRAQ0          NaN         NaN    NaN         NaN   \n",
       "gJD3315_B.A6_1_3585mTRAQ0   370.829358         NaN    NaN  581.946828   \n",
       "\n",
       "                           RPL26L1       YWHAE        YWHAG       BCKDK  \\\n",
       "gJD3310_B.A1_1_3580mTRAQ0      NaN         NaN    81.941118  127.981932   \n",
       "gJD3312_B.A3_1_3582mTRAQ0      NaN         NaN   332.701871         NaN   \n",
       "gJD3313_B.A4_1_3583mTRAQ0      NaN         NaN          NaN  236.438031   \n",
       "gJD3314_B.A5_1_3584mTRAQ0      NaN  169.459344   529.131505         NaN   \n",
       "gJD3315_B.A6_1_3585mTRAQ0      NaN         NaN  1364.441086   89.952708   \n",
       "\n",
       "                                 TEX44         RBM3  \n",
       "gJD3310_B.A1_1_3580mTRAQ0  7558.562064  2445.113416  \n",
       "gJD3312_B.A3_1_3582mTRAQ0  2472.685355   711.695525  \n",
       "gJD3313_B.A4_1_3583mTRAQ0  4022.725033   791.510046  \n",
       "gJD3314_B.A5_1_3584mTRAQ0  2277.256667   806.961110  \n",
       "gJD3315_B.A6_1_3585mTRAQ0  3864.950560    25.735222  \n",
       "\n",
       "[5 rows x 1690 columns]"
      ]
     },
     "execution_count": 29,
     "metadata": {},
     "output_type": "execute_result"
    }
   ],
   "source": [
    "df.head()"
   ]
  },
  {
   "cell_type": "markdown",
   "metadata": {},
   "source": [
    "Create obs table."
   ]
  },
  {
   "cell_type": "code",
   "execution_count": 33,
   "metadata": {},
   "outputs": [],
   "source": [
    "table = table.set_index(row_name)\n",
    "\n",
    "obs_table = table[~table.index.duplicated(keep='first')]\n",
    "obs_table = obs_table[[\"celltype\", \"label\", \"run\", \"lc_batch\", \"biorep\", \"carrier_amount\"]]"
   ]
  },
  {
   "cell_type": "code",
   "execution_count": 35,
   "metadata": {},
   "outputs": [
    {
     "data": {
      "text/html": [
       "<div>\n",
       "<style scoped>\n",
       "    .dataframe tbody tr th:only-of-type {\n",
       "        vertical-align: middle;\n",
       "    }\n",
       "\n",
       "    .dataframe tbody tr th {\n",
       "        vertical-align: top;\n",
       "    }\n",
       "\n",
       "    .dataframe thead th {\n",
       "        text-align: right;\n",
       "    }\n",
       "</style>\n",
       "<table border=\"1\" class=\"dataframe\">\n",
       "  <thead>\n",
       "    <tr style=\"text-align: right;\">\n",
       "      <th></th>\n",
       "      <th>celltype</th>\n",
       "      <th>label</th>\n",
       "      <th>run</th>\n",
       "      <th>lc_batch</th>\n",
       "      <th>biorep</th>\n",
       "      <th>carrier_amount</th>\n",
       "    </tr>\n",
       "    <tr>\n",
       "      <th>run_chan</th>\n",
       "      <th></th>\n",
       "      <th></th>\n",
       "      <th></th>\n",
       "      <th></th>\n",
       "      <th></th>\n",
       "      <th></th>\n",
       "    </tr>\n",
       "  </thead>\n",
       "  <tbody>\n",
       "    <tr>\n",
       "      <th>gJD3310_B.A1_1_3580mTRAQ0</th>\n",
       "      <td>NUC_10</td>\n",
       "      <td>0</td>\n",
       "      <td>3580</td>\n",
       "      <td>7</td>\n",
       "      <td>3</td>\n",
       "      <td>25</td>\n",
       "    </tr>\n",
       "    <tr>\n",
       "      <th>gJD3312_B.A3_1_3582mTRAQ0</th>\n",
       "      <td>NUC_60</td>\n",
       "      <td>0</td>\n",
       "      <td>3582</td>\n",
       "      <td>7</td>\n",
       "      <td>3</td>\n",
       "      <td>25</td>\n",
       "    </tr>\n",
       "    <tr>\n",
       "      <th>gJD3313_B.A4_1_3583mTRAQ0</th>\n",
       "      <td>NUC_30</td>\n",
       "      <td>0</td>\n",
       "      <td>3583</td>\n",
       "      <td>7</td>\n",
       "      <td>3</td>\n",
       "      <td>25</td>\n",
       "    </tr>\n",
       "    <tr>\n",
       "      <th>gJD3314_B.A5_1_3584mTRAQ0</th>\n",
       "      <td>NUC_10</td>\n",
       "      <td>0</td>\n",
       "      <td>3584</td>\n",
       "      <td>7</td>\n",
       "      <td>3</td>\n",
       "      <td>25</td>\n",
       "    </tr>\n",
       "    <tr>\n",
       "      <th>gJD3315_B.A6_1_3585mTRAQ0</th>\n",
       "      <td>NUC_NT</td>\n",
       "      <td>0</td>\n",
       "      <td>3585</td>\n",
       "      <td>7</td>\n",
       "      <td>3</td>\n",
       "      <td>25</td>\n",
       "    </tr>\n",
       "  </tbody>\n",
       "</table>\n",
       "</div>"
      ],
      "text/plain": [
       "                          celltype  label   run  lc_batch  biorep  \\\n",
       "run_chan                                                            \n",
       "gJD3310_B.A1_1_3580mTRAQ0   NUC_10      0  3580         7       3   \n",
       "gJD3312_B.A3_1_3582mTRAQ0   NUC_60      0  3582         7       3   \n",
       "gJD3313_B.A4_1_3583mTRAQ0   NUC_30      0  3583         7       3   \n",
       "gJD3314_B.A5_1_3584mTRAQ0   NUC_10      0  3584         7       3   \n",
       "gJD3315_B.A6_1_3585mTRAQ0   NUC_NT      0  3585         7       3   \n",
       "\n",
       "                           carrier_amount  \n",
       "run_chan                                   \n",
       "gJD3310_B.A1_1_3580mTRAQ0              25  \n",
       "gJD3312_B.A3_1_3582mTRAQ0              25  \n",
       "gJD3313_B.A4_1_3583mTRAQ0              25  \n",
       "gJD3314_B.A5_1_3584mTRAQ0              25  \n",
       "gJD3315_B.A6_1_3585mTRAQ0              25  "
      ]
     },
     "execution_count": 35,
     "metadata": {},
     "output_type": "execute_result"
    }
   ],
   "source": [
    "obs_table.head()"
   ]
  },
  {
   "cell_type": "markdown",
   "metadata": {},
   "source": [
    "Create var table."
   ]
  },
  {
   "cell_type": "code",
   "execution_count": 36,
   "metadata": {},
   "outputs": [],
   "source": [
    "table = table.set_index(col_name)\n",
    "\n",
    "var_table = table[~table.index.duplicated(keep='first')]\n",
    "var_table = var_table[[\"gene\"]]\n",
    "\n",
    "var_table.columns = [col.lower() for col in var_table.columns]\n"
   ]
  },
  {
   "cell_type": "code",
   "execution_count": 37,
   "metadata": {},
   "outputs": [
    {
     "data": {
      "text/html": [
       "<div>\n",
       "<style scoped>\n",
       "    .dataframe tbody tr th:only-of-type {\n",
       "        vertical-align: middle;\n",
       "    }\n",
       "\n",
       "    .dataframe tbody tr th {\n",
       "        vertical-align: top;\n",
       "    }\n",
       "\n",
       "    .dataframe thead th {\n",
       "        text-align: right;\n",
       "    }\n",
       "</style>\n",
       "<table border=\"1\" class=\"dataframe\">\n",
       "  <thead>\n",
       "    <tr style=\"text-align: right;\">\n",
       "      <th></th>\n",
       "      <th>gene</th>\n",
       "    </tr>\n",
       "    <tr>\n",
       "      <th>genes</th>\n",
       "      <th></th>\n",
       "    </tr>\n",
       "  </thead>\n",
       "  <tbody>\n",
       "    <tr>\n",
       "      <th>SRP14</th>\n",
       "      <td>SRP14</td>\n",
       "    </tr>\n",
       "    <tr>\n",
       "      <th>RPL4</th>\n",
       "      <td>RPL4</td>\n",
       "    </tr>\n",
       "    <tr>\n",
       "      <th>EXOSC10</th>\n",
       "      <td>EXOSC10</td>\n",
       "    </tr>\n",
       "    <tr>\n",
       "      <th>DOCK2</th>\n",
       "      <td>DOCK2</td>\n",
       "    </tr>\n",
       "    <tr>\n",
       "      <th>ARID1A</th>\n",
       "      <td>ARID1A</td>\n",
       "    </tr>\n",
       "  </tbody>\n",
       "</table>\n",
       "</div>"
      ],
      "text/plain": [
       "            gene\n",
       "genes           \n",
       "SRP14      SRP14\n",
       "RPL4        RPL4\n",
       "EXOSC10  EXOSC10\n",
       "DOCK2      DOCK2\n",
       "ARID1A    ARID1A"
      ]
     },
     "execution_count": 37,
     "metadata": {},
     "output_type": "execute_result"
    }
   ],
   "source": [
    "var_table.head()"
   ]
  },
  {
   "cell_type": "markdown",
   "metadata": {},
   "source": [
    "Create anndata object."
   ]
  },
  {
   "cell_type": "code",
   "execution_count": 38,
   "metadata": {},
   "outputs": [
    {
     "name": "stderr",
     "output_type": "stream",
     "text": [
      "/home/rasmus/rmls/work/ra/leduc2024/.conda/lib/python3.11/site-packages/scanpy/preprocessing/_simple.py:384: RuntimeWarning: invalid value encountered in log1p\n",
      "  np.log1p(X, out=X)\n"
     ]
    }
   ],
   "source": [
    "adata = sc.AnnData(X=df, obs=obs_table, var=var_table)\n",
    "\n",
    "sc.pp.log1p(adata, base=2)\n",
    "adata.layers[\"raw\"] = adata.X.copy()\n",
    "\n",
    "adata.X[np.isnan(adata.X)] = 0\n",
    "sc.tl.pca(adata)"
   ]
  },
  {
   "cell_type": "code",
   "execution_count": 39,
   "metadata": {},
   "outputs": [
    {
     "data": {
      "text/plain": [
       "AnnData object with n_obs × n_vars = 528 × 1690\n",
       "    obs: 'celltype', 'label', 'run', 'lc_batch', 'biorep', 'carrier_amount'\n",
       "    var: 'gene'\n",
       "    uns: 'log1p', 'pca'\n",
       "    obsm: 'X_pca'\n",
       "    varm: 'PCs'\n",
       "    layers: 'raw'"
      ]
     },
     "execution_count": 39,
     "metadata": {},
     "output_type": "execute_result"
    }
   ],
   "source": [
    "adata"
   ]
  },
  {
   "cell_type": "code",
   "execution_count": 40,
   "metadata": {},
   "outputs": [],
   "source": [
    "adata.write(\"leduc_2024.h5ad\")"
   ]
  },
  {
   "cell_type": "code",
   "execution_count": 19,
   "metadata": {},
   "outputs": [
    {
     "data": {
      "text/plain": [
       "AnnData object with n_obs × n_vars = 528 × 1690\n",
       "    obs: 'Celltype', 'Label', 'run', 'LC_batch', 'BioRep', 'Carrier_amount'\n",
       "    var: 'Gene'\n",
       "    uns: 'log1p'\n",
       "    layers: 'raw'"
      ]
     },
     "execution_count": 19,
     "metadata": {},
     "output_type": "execute_result"
    }
   ],
   "source": [
    "adata"
   ]
  },
  {
   "cell_type": "code",
   "execution_count": 43,
   "metadata": {},
   "outputs": [
    {
     "data": {
      "image/png": "[encoded data removed]",
      "text/plain": [
       "<Figure size 640x480 with 2 Axes>"
      ]
     },
     "metadata": {},
     "output_type": "display_data"
    }
   ],
   "source": [
    "sc.pl.pca(adata, color=[\"lc_batch\"])"
   ]
  }
 ],
 "metadata": {
  "kernelspec": {
   "display_name": "Python 3",
   "language": "python",
   "name": "python3"
  },
  "language_info": {
   "codemirror_mode": {
    "name": "ipython",
    "version": 3
   },
   "file_extension": ".py",
   "mimetype": "text/x-python",
   "name": "python",
   "nbconvert_exporter": "python",
   "pygments_lexer": "ipython3",
   "version": "3.11.9"
  }
 },
 "nbformat": 4,
 "nbformat_minor": 2
}
